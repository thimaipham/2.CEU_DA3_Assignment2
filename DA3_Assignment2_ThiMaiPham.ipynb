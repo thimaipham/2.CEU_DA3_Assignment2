{
 "cells": [
  {
   "cell_type": "markdown",
   "id": "e857fcc1",
   "metadata": {},
   "source": [
    "# Assignment 2"
   ]
  },
  {
   "cell_type": "code",
   "execution_count": 67,
   "id": "1a32168e",
   "metadata": {},
   "outputs": [],
   "source": [
    "import warnings\n",
    "warnings.filterwarnings('ignore')\n",
    "\n",
    "import pandas as pd\n",
    "import numpy as np\n",
    "from patsy import dmatrices\n",
    "from sklearn.model_selection import train_test_split\n",
    "import matplotlib.pyplot as plt\n",
    "from math import sqrt\n",
    "from sklearn.ensemble import RandomForestRegressor\n",
    "from sklearn.model_selection import GridSearchCV\n",
    "from sklearn.model_selection import RandomizedSearchCV\n",
    "from sklearn.impute import SimpleImputer\n",
    "from sklearn.inspection import permutation_importance\n",
    "from sklearn.inspection import PartialDependenceDisplay\n",
    "from sklearn.inspection import partial_dependence\n",
    "from sklearn.compose import ColumnTransformer\n",
    "from sklearn.preprocessing import OneHotEncoder\n",
    "from sklearn.metrics import mean_squared_error\n",
    "from sklearn.linear_model import LinearRegression\n",
    "from sklearn.metrics import mean_squared_error, mean_absolute_error, r2_score\n",
    "from sklearn.tree import DecisionTreeRegressor\n",
    "from sklearn.ensemble import GradientBoostingRegressor"
   ]
  },
  {
   "cell_type": "code",
   "execution_count": 2,
   "id": "505f2259",
   "metadata": {},
   "outputs": [],
   "source": [
    "# DATA IMPORT - FROM GITHUB\n",
    "data_raw = pd.read_csv('https://raw.githubusercontent.com/thimaipham/2.CEU_DA3_Assignment2/main/listings.csv')"
   ]
  },
  {
   "cell_type": "markdown",
   "id": "fb240e36",
   "metadata": {},
   "source": [
    "### 1. Data Featuring"
   ]
  },
  {
   "cell_type": "markdown",
   "id": "9dc3eb41",
   "metadata": {},
   "source": [
    "##### Data describe:\n",
    "- The raw dataset comprises 25,480 observations and 76 columns, including some columns that are unnecessary or difficult to use during the modeling process.\n",
    "- Certain important columns are encountering the following issues:\n",
    "    1. The `bedrooms` column has a staggering 99% missing values.\n",
    "    2. The `name` column contains descriptions of apartments, including the number of bedrooms.\n",
    "    3. The `bathrooms` column has no data.\n",
    "    4. The `bathroom_text` column has data but is currently of object type due to the presence of the word 'bath' in the entries.\n",
    "    5. The `price` column is currently of object type as it contains the '$' symbol.\n",
    "\n",
    "\n",
    "- Several columns exhibit a high percentage of missing values (ranging from 40% to 90%)."
   ]
  },
  {
   "cell_type": "code",
   "execution_count": 3,
   "id": "d21ba1e7",
   "metadata": {},
   "outputs": [],
   "source": [
    "# Regex looks for a number followed by the word 'bedroom' or 'bedrooms'\n",
    "data_raw['bedroom_extract'] = data_raw['name'].str.extract('(\\d+) bedroom')\n",
    "\n",
    "# Convert the extracted bedroom numbers to numeric type\n",
    "data_raw['bedroom_extract'] = pd.to_numeric(data_raw['bedroom_extract'], errors='coerce')"
   ]
  },
  {
   "cell_type": "code",
   "execution_count": 4,
   "id": "7c830b61",
   "metadata": {},
   "outputs": [],
   "source": [
    "# Removing unnecessary columns to streamline the dataset for this assignment\n",
    "# List of columns to be dropped based on the description and analysis\n",
    "columns_to_drop = [\n",
    "    'id', 'listing_url', 'scrape_id', 'name', 'last_scraped', 'description',\n",
    "    'neighborhood_overview', 'picture_url', 'host_id', 'host_url','bedrooms','host_name', \n",
    "    'host_thumbnail_url', 'host_picture_url', 'host_about', 'host_neighbourhood',\n",
    "    'host_listings_count', 'host_total_listings_count', 'neighbourhood', \n",
    "    'neighbourhood_cleansed', 'neighbourhood_group_cleansed', 'calendar_last_scraped', \n",
    "    'license', 'host_location', 'source','first_review','last_review','host_verifications',\n",
    "    'calendar_updated', 'calculated_host_listings_count', 'calculated_host_listings_count_entire_homes', \n",
    "    'calculated_host_listings_count_private_rooms', 'calculated_host_listings_count_shared_rooms', \n",
    "    'amenities' # amenities column is emty with [] symbol\n",
    "]\n",
    "\n",
    "# Dropping the columns from the DataFrame\n",
    "data_cleaned = data_raw.drop(columns=columns_to_drop, errors='ignore')\n",
    "\n",
    "# We focus on apartments with 2<= n <= 6\n",
    "data_cleaned = data_cleaned[(data_cleaned.accommodates >= 2) & (data_cleaned.accommodates <= 6)]\n",
    "\n",
    "# Removing rows with null values in the 'price' variable for accurate modeling\n",
    "data_cleaned = data_cleaned.dropna(subset=['price'])\n"
   ]
  },
  {
   "cell_type": "code",
   "execution_count": 5,
   "id": "e54364a2",
   "metadata": {},
   "outputs": [],
   "source": [
    "# Convert 'bathrooms_text' to a numeric 'bathrooms' column by extracting the number\n",
    "data_cleaned['bathrooms'] = data_cleaned['bathrooms_text'].str.extract('(\\d+)').astype(float)\n",
    "\n",
    "# Convert 'price' to a numeric column by removing the '$' and ',' then converting to float\n",
    "data_cleaned['price'] = data_cleaned['price'].replace('[\\$,]', '', regex=True).astype(float)\n",
    "\n",
    "# Drop the original 'bathrooms_text' column as it's now redundant\n",
    "data_cleaned = data_cleaned.drop('bathrooms_text', axis=1)\n",
    "\n"
   ]
  },
  {
   "cell_type": "code",
   "execution_count": 6,
   "id": "78c86bd7",
   "metadata": {},
   "outputs": [],
   "source": [
    "# Calculate the percentage of missing values for each column\n",
    "missing_percentage = data_cleaned.isnull().mean() * 100\n",
    "\n",
    "# Due to some columns which have more than 40% of missing values, I will drop those columns\n",
    "# Identify columns with more than 40% missing values\n",
    "columns_to_drop_missing = missing_percentage[missing_percentage > 40].index\n",
    "\n",
    "# Drop these columns\n",
    "data_cleaned = data_cleaned.drop(columns=columns_to_drop_missing)\n",
    "\n",
    "# Drop observations with any missing values\n",
    "data_cleaned = data_cleaned.dropna()"
   ]
  },
  {
   "cell_type": "markdown",
   "id": "bce830c4",
   "metadata": {},
   "source": [
    "##### After cleaning part the cleaned data includes: \n",
    "- 13773 observations\n",
    "- 38 columns"
   ]
  },
  {
   "cell_type": "markdown",
   "id": "f340333b",
   "metadata": {},
   "source": [
    "### 2. Data featuring"
   ]
  },
  {
   "cell_type": "markdown",
   "id": "9754cf4c",
   "metadata": {},
   "source": [
    "##### Dealing with catergorical variables"
   ]
  },
  {
   "cell_type": "code",
   "execution_count": 7,
   "id": "3f8ad696",
   "metadata": {},
   "outputs": [
    {
     "data": {
      "text/html": [
       "<div>\n",
       "<style scoped>\n",
       "    .dataframe tbody tr th:only-of-type {\n",
       "        vertical-align: middle;\n",
       "    }\n",
       "\n",
       "    .dataframe tbody tr th {\n",
       "        vertical-align: top;\n",
       "    }\n",
       "\n",
       "    .dataframe thead th {\n",
       "        text-align: right;\n",
       "    }\n",
       "</style>\n",
       "<table border=\"1\" class=\"dataframe\">\n",
       "  <thead>\n",
       "    <tr style=\"text-align: right;\">\n",
       "      <th></th>\n",
       "      <th>host_since</th>\n",
       "      <th>host_is_superhost</th>\n",
       "      <th>host_has_profile_pic</th>\n",
       "      <th>host_identity_verified</th>\n",
       "      <th>latitude</th>\n",
       "      <th>longitude</th>\n",
       "      <th>property_type</th>\n",
       "      <th>accommodates</th>\n",
       "      <th>bathrooms</th>\n",
       "      <th>beds</th>\n",
       "      <th>...</th>\n",
       "      <th>review_scores_location</th>\n",
       "      <th>review_scores_value</th>\n",
       "      <th>instant_bookable</th>\n",
       "      <th>reviews_per_month</th>\n",
       "      <th>bedroom_extract</th>\n",
       "      <th>days_since_host_joined</th>\n",
       "      <th>room_type_Entire home/apt</th>\n",
       "      <th>room_type_Hotel room</th>\n",
       "      <th>room_type_Private room</th>\n",
       "      <th>room_type_Shared room</th>\n",
       "    </tr>\n",
       "  </thead>\n",
       "  <tbody>\n",
       "    <tr>\n",
       "      <th>0</th>\n",
       "      <td>2015-07-22</td>\n",
       "      <td>1</td>\n",
       "      <td>1</td>\n",
       "      <td>1</td>\n",
       "      <td>-34.082650</td>\n",
       "      <td>151.148550</td>\n",
       "      <td>Private room in guesthouse</td>\n",
       "      <td>2</td>\n",
       "      <td>1.0</td>\n",
       "      <td>1.0</td>\n",
       "      <td>...</td>\n",
       "      <td>4.97</td>\n",
       "      <td>4.83</td>\n",
       "      <td>1</td>\n",
       "      <td>1.86</td>\n",
       "      <td>1.0</td>\n",
       "      <td>3126</td>\n",
       "      <td>0.0</td>\n",
       "      <td>0.0</td>\n",
       "      <td>1.0</td>\n",
       "      <td>0.0</td>\n",
       "    </tr>\n",
       "    <tr>\n",
       "      <th>1</th>\n",
       "      <td>2017-10-17</td>\n",
       "      <td>0</td>\n",
       "      <td>1</td>\n",
       "      <td>1</td>\n",
       "      <td>-33.758380</td>\n",
       "      <td>151.287420</td>\n",
       "      <td>Entire guesthouse</td>\n",
       "      <td>5</td>\n",
       "      <td>1.0</td>\n",
       "      <td>3.0</td>\n",
       "      <td>...</td>\n",
       "      <td>5.00</td>\n",
       "      <td>5.00</td>\n",
       "      <td>0</td>\n",
       "      <td>0.03</td>\n",
       "      <td>2.0</td>\n",
       "      <td>2308</td>\n",
       "      <td>1.0</td>\n",
       "      <td>0.0</td>\n",
       "      <td>0.0</td>\n",
       "      <td>0.0</td>\n",
       "    </tr>\n",
       "    <tr>\n",
       "      <th>2</th>\n",
       "      <td>2016-07-20</td>\n",
       "      <td>1</td>\n",
       "      <td>1</td>\n",
       "      <td>1</td>\n",
       "      <td>-33.905680</td>\n",
       "      <td>151.206990</td>\n",
       "      <td>Entire rental unit</td>\n",
       "      <td>3</td>\n",
       "      <td>1.0</td>\n",
       "      <td>2.0</td>\n",
       "      <td>...</td>\n",
       "      <td>4.80</td>\n",
       "      <td>4.73</td>\n",
       "      <td>1</td>\n",
       "      <td>1.34</td>\n",
       "      <td>2.0</td>\n",
       "      <td>2762</td>\n",
       "      <td>1.0</td>\n",
       "      <td>0.0</td>\n",
       "      <td>0.0</td>\n",
       "      <td>0.0</td>\n",
       "    </tr>\n",
       "    <tr>\n",
       "      <th>3</th>\n",
       "      <td>2023-05-28</td>\n",
       "      <td>0</td>\n",
       "      <td>1</td>\n",
       "      <td>1</td>\n",
       "      <td>-33.883860</td>\n",
       "      <td>151.180388</td>\n",
       "      <td>Private room in home</td>\n",
       "      <td>2</td>\n",
       "      <td>1.0</td>\n",
       "      <td>2.0</td>\n",
       "      <td>...</td>\n",
       "      <td>4.58</td>\n",
       "      <td>4.33</td>\n",
       "      <td>0</td>\n",
       "      <td>6.43</td>\n",
       "      <td>1.0</td>\n",
       "      <td>259</td>\n",
       "      <td>0.0</td>\n",
       "      <td>0.0</td>\n",
       "      <td>1.0</td>\n",
       "      <td>0.0</td>\n",
       "    </tr>\n",
       "    <tr>\n",
       "      <th>4</th>\n",
       "      <td>2015-05-20</td>\n",
       "      <td>0</td>\n",
       "      <td>1</td>\n",
       "      <td>1</td>\n",
       "      <td>-33.886420</td>\n",
       "      <td>151.170760</td>\n",
       "      <td>Private room in hostel</td>\n",
       "      <td>2</td>\n",
       "      <td>1.0</td>\n",
       "      <td>1.0</td>\n",
       "      <td>...</td>\n",
       "      <td>4.68</td>\n",
       "      <td>4.80</td>\n",
       "      <td>1</td>\n",
       "      <td>1.88</td>\n",
       "      <td>1.0</td>\n",
       "      <td>3189</td>\n",
       "      <td>0.0</td>\n",
       "      <td>0.0</td>\n",
       "      <td>1.0</td>\n",
       "      <td>0.0</td>\n",
       "    </tr>\n",
       "    <tr>\n",
       "      <th>...</th>\n",
       "      <td>...</td>\n",
       "      <td>...</td>\n",
       "      <td>...</td>\n",
       "      <td>...</td>\n",
       "      <td>...</td>\n",
       "      <td>...</td>\n",
       "      <td>...</td>\n",
       "      <td>...</td>\n",
       "      <td>...</td>\n",
       "      <td>...</td>\n",
       "      <td>...</td>\n",
       "      <td>...</td>\n",
       "      <td>...</td>\n",
       "      <td>...</td>\n",
       "      <td>...</td>\n",
       "      <td>...</td>\n",
       "      <td>...</td>\n",
       "      <td>...</td>\n",
       "      <td>...</td>\n",
       "      <td>...</td>\n",
       "      <td>...</td>\n",
       "    </tr>\n",
       "    <tr>\n",
       "      <th>13768</th>\n",
       "      <td>2015-09-08</td>\n",
       "      <td>0</td>\n",
       "      <td>1</td>\n",
       "      <td>1</td>\n",
       "      <td>-33.877990</td>\n",
       "      <td>151.245680</td>\n",
       "      <td>Entire rental unit</td>\n",
       "      <td>2</td>\n",
       "      <td>1.0</td>\n",
       "      <td>1.0</td>\n",
       "      <td>...</td>\n",
       "      <td>5.00</td>\n",
       "      <td>5.00</td>\n",
       "      <td>0</td>\n",
       "      <td>0.52</td>\n",
       "      <td>1.0</td>\n",
       "      <td>3078</td>\n",
       "      <td>1.0</td>\n",
       "      <td>0.0</td>\n",
       "      <td>0.0</td>\n",
       "      <td>0.0</td>\n",
       "    </tr>\n",
       "    <tr>\n",
       "      <th>13769</th>\n",
       "      <td>2019-02-16</td>\n",
       "      <td>0</td>\n",
       "      <td>1</td>\n",
       "      <td>1</td>\n",
       "      <td>-33.958960</td>\n",
       "      <td>151.023090</td>\n",
       "      <td>Entire guesthouse</td>\n",
       "      <td>4</td>\n",
       "      <td>1.0</td>\n",
       "      <td>2.0</td>\n",
       "      <td>...</td>\n",
       "      <td>4.72</td>\n",
       "      <td>4.63</td>\n",
       "      <td>1</td>\n",
       "      <td>2.72</td>\n",
       "      <td>1.0</td>\n",
       "      <td>1821</td>\n",
       "      <td>1.0</td>\n",
       "      <td>0.0</td>\n",
       "      <td>0.0</td>\n",
       "      <td>0.0</td>\n",
       "    </tr>\n",
       "    <tr>\n",
       "      <th>13770</th>\n",
       "      <td>2017-04-07</td>\n",
       "      <td>0</td>\n",
       "      <td>1</td>\n",
       "      <td>1</td>\n",
       "      <td>-33.832000</td>\n",
       "      <td>151.240590</td>\n",
       "      <td>Entire rental unit</td>\n",
       "      <td>4</td>\n",
       "      <td>1.0</td>\n",
       "      <td>2.0</td>\n",
       "      <td>...</td>\n",
       "      <td>4.50</td>\n",
       "      <td>5.00</td>\n",
       "      <td>0</td>\n",
       "      <td>0.56</td>\n",
       "      <td>1.0</td>\n",
       "      <td>2501</td>\n",
       "      <td>1.0</td>\n",
       "      <td>0.0</td>\n",
       "      <td>0.0</td>\n",
       "      <td>0.0</td>\n",
       "    </tr>\n",
       "    <tr>\n",
       "      <th>13771</th>\n",
       "      <td>2015-07-13</td>\n",
       "      <td>0</td>\n",
       "      <td>1</td>\n",
       "      <td>1</td>\n",
       "      <td>-33.898658</td>\n",
       "      <td>151.196823</td>\n",
       "      <td>Entire home</td>\n",
       "      <td>6</td>\n",
       "      <td>2.0</td>\n",
       "      <td>3.0</td>\n",
       "      <td>...</td>\n",
       "      <td>5.00</td>\n",
       "      <td>5.00</td>\n",
       "      <td>0</td>\n",
       "      <td>1.00</td>\n",
       "      <td>3.0</td>\n",
       "      <td>3135</td>\n",
       "      <td>1.0</td>\n",
       "      <td>0.0</td>\n",
       "      <td>0.0</td>\n",
       "      <td>0.0</td>\n",
       "    </tr>\n",
       "    <tr>\n",
       "      <th>13772</th>\n",
       "      <td>2013-02-13</td>\n",
       "      <td>1</td>\n",
       "      <td>1</td>\n",
       "      <td>1</td>\n",
       "      <td>-33.873030</td>\n",
       "      <td>151.196180</td>\n",
       "      <td>Entire rental unit</td>\n",
       "      <td>3</td>\n",
       "      <td>1.0</td>\n",
       "      <td>1.0</td>\n",
       "      <td>...</td>\n",
       "      <td>4.91</td>\n",
       "      <td>4.74</td>\n",
       "      <td>1</td>\n",
       "      <td>2.52</td>\n",
       "      <td>1.0</td>\n",
       "      <td>4015</td>\n",
       "      <td>1.0</td>\n",
       "      <td>0.0</td>\n",
       "      <td>0.0</td>\n",
       "      <td>0.0</td>\n",
       "    </tr>\n",
       "  </tbody>\n",
       "</table>\n",
       "<p>13773 rows × 42 columns</p>\n",
       "</div>"
      ],
      "text/plain": [
       "      host_since  host_is_superhost  host_has_profile_pic  \\\n",
       "0     2015-07-22                  1                     1   \n",
       "1     2017-10-17                  0                     1   \n",
       "2     2016-07-20                  1                     1   \n",
       "3     2023-05-28                  0                     1   \n",
       "4     2015-05-20                  0                     1   \n",
       "...          ...                ...                   ...   \n",
       "13768 2015-09-08                  0                     1   \n",
       "13769 2019-02-16                  0                     1   \n",
       "13770 2017-04-07                  0                     1   \n",
       "13771 2015-07-13                  0                     1   \n",
       "13772 2013-02-13                  1                     1   \n",
       "\n",
       "       host_identity_verified   latitude   longitude  \\\n",
       "0                           1 -34.082650  151.148550   \n",
       "1                           1 -33.758380  151.287420   \n",
       "2                           1 -33.905680  151.206990   \n",
       "3                           1 -33.883860  151.180388   \n",
       "4                           1 -33.886420  151.170760   \n",
       "...                       ...        ...         ...   \n",
       "13768                       1 -33.877990  151.245680   \n",
       "13769                       1 -33.958960  151.023090   \n",
       "13770                       1 -33.832000  151.240590   \n",
       "13771                       1 -33.898658  151.196823   \n",
       "13772                       1 -33.873030  151.196180   \n",
       "\n",
       "                    property_type  accommodates  bathrooms  beds  ...  \\\n",
       "0      Private room in guesthouse             2        1.0   1.0  ...   \n",
       "1               Entire guesthouse             5        1.0   3.0  ...   \n",
       "2              Entire rental unit             3        1.0   2.0  ...   \n",
       "3            Private room in home             2        1.0   2.0  ...   \n",
       "4          Private room in hostel             2        1.0   1.0  ...   \n",
       "...                           ...           ...        ...   ...  ...   \n",
       "13768          Entire rental unit             2        1.0   1.0  ...   \n",
       "13769           Entire guesthouse             4        1.0   2.0  ...   \n",
       "13770          Entire rental unit             4        1.0   2.0  ...   \n",
       "13771                 Entire home             6        2.0   3.0  ...   \n",
       "13772          Entire rental unit             3        1.0   1.0  ...   \n",
       "\n",
       "       review_scores_location  review_scores_value  instant_bookable  \\\n",
       "0                        4.97                 4.83                 1   \n",
       "1                        5.00                 5.00                 0   \n",
       "2                        4.80                 4.73                 1   \n",
       "3                        4.58                 4.33                 0   \n",
       "4                        4.68                 4.80                 1   \n",
       "...                       ...                  ...               ...   \n",
       "13768                    5.00                 5.00                 0   \n",
       "13769                    4.72                 4.63                 1   \n",
       "13770                    4.50                 5.00                 0   \n",
       "13771                    5.00                 5.00                 0   \n",
       "13772                    4.91                 4.74                 1   \n",
       "\n",
       "       reviews_per_month  bedroom_extract  days_since_host_joined  \\\n",
       "0                   1.86              1.0                    3126   \n",
       "1                   0.03              2.0                    2308   \n",
       "2                   1.34              2.0                    2762   \n",
       "3                   6.43              1.0                     259   \n",
       "4                   1.88              1.0                    3189   \n",
       "...                  ...              ...                     ...   \n",
       "13768               0.52              1.0                    3078   \n",
       "13769               2.72              1.0                    1821   \n",
       "13770               0.56              1.0                    2501   \n",
       "13771               1.00              3.0                    3135   \n",
       "13772               2.52              1.0                    4015   \n",
       "\n",
       "       room_type_Entire home/apt  room_type_Hotel room  \\\n",
       "0                            0.0                   0.0   \n",
       "1                            1.0                   0.0   \n",
       "2                            1.0                   0.0   \n",
       "3                            0.0                   0.0   \n",
       "4                            0.0                   0.0   \n",
       "...                          ...                   ...   \n",
       "13768                        1.0                   0.0   \n",
       "13769                        1.0                   0.0   \n",
       "13770                        1.0                   0.0   \n",
       "13771                        1.0                   0.0   \n",
       "13772                        1.0                   0.0   \n",
       "\n",
       "       room_type_Private room room_type_Shared room  \n",
       "0                         1.0                   0.0  \n",
       "1                         0.0                   0.0  \n",
       "2                         0.0                   0.0  \n",
       "3                         1.0                   0.0  \n",
       "4                         1.0                   0.0  \n",
       "...                       ...                   ...  \n",
       "13768                     0.0                   0.0  \n",
       "13769                     0.0                   0.0  \n",
       "13770                     0.0                   0.0  \n",
       "13771                     0.0                   0.0  \n",
       "13772                     0.0                   0.0  \n",
       "\n",
       "[13773 rows x 42 columns]"
      ]
     },
     "execution_count": 7,
     "metadata": {},
     "output_type": "execute_result"
    }
   ],
   "source": [
    "# Convert binary categorical variables to 0 and 1\n",
    "binary_vars = ['host_is_superhost', 'host_has_profile_pic', 'host_identity_verified', 'instant_bookable']\n",
    "data_cleaned[binary_vars] = data_cleaned[binary_vars].apply(lambda x: x.map({'t': 1, 'f': 0}))\n",
    "\n",
    "# Extract number of days since the host joined\n",
    "data_cleaned['host_since'] = pd.to_datetime(data_cleaned['host_since'])\n",
    "data_cleaned['days_since_host_joined'] = (pd.to_datetime('today') - data_cleaned['host_since']).dt.days\n",
    "\n",
    "# Reset index of the original data to ensure consistent indexing before one-hot encoding\n",
    "data_cleaned_reset = data_cleaned.reset_index(drop=True)\n",
    "\n",
    "# One-hot encoding 'room_type'\n",
    "encoder_room_type = OneHotEncoder(sparse=False, handle_unknown='ignore')\n",
    "encoded_room_types = encoder_room_type.fit_transform(data_cleaned_reset[['room_type']])\n",
    "encoded_room_type_names = encoder_room_type.get_feature_names_out(['room_type'])\n",
    "\n",
    "# Create a DataFrame for the encoded room type features with index aligned to the original data\n",
    "encoded_room_type_df = pd.DataFrame(encoded_room_types, columns=encoded_room_type_names, index=data_cleaned_reset.index)\n",
    "\n",
    "# Concatenate the one-hot encoded features and drop the original 'room_type' column with aligned indices\n",
    "data_preprocessed = pd.concat([data_cleaned_reset.drop(['room_type'], axis=1), encoded_room_type_df], axis=1)\n",
    "\n",
    "# Display the first few rows to confirm changes\n",
    "data_preprocessed\n"
   ]
  },
  {
   "cell_type": "markdown",
   "id": "2e02a58e",
   "metadata": {},
   "source": [
    "##### Grouping features"
   ]
  },
  {
   "cell_type": "code",
   "execution_count": 9,
   "id": "2adc166b",
   "metadata": {},
   "outputs": [
    {
     "data": {
      "text/plain": [
       "27"
      ]
     },
     "execution_count": 9,
     "metadata": {},
     "output_type": "execute_result"
    }
   ],
   "source": [
    "# Basic variables\n",
    "basic_vars = [\n",
    "    \"accommodates\",\n",
    "    \"beds\",\n",
    "    \"bedroom_extract\",\n",
    "    \"bathrooms\"\n",
    "]\n",
    "\n",
    "# Host-related features\n",
    "host_related = [\n",
    "    \"host_is_superhost\",\n",
    "    \"host_has_profile_pic\",\n",
    "    \"host_identity_verified\"\n",
    "]\n",
    "\n",
    "# Time-related feature \n",
    "time_related = [\"days_since_host_joined\"]\n",
    "\n",
    "# Review-related features \n",
    "reviews = [\n",
    "    \"review_scores_rating\",\n",
    "    \"review_scores_accuracy\",\n",
    "    \"review_scores_cleanliness\",\n",
    "    \"review_scores_checkin\",\n",
    "    \"review_scores_communication\",\n",
    "    \"review_scores_location\",\n",
    "    \"review_scores_value\",\n",
    "    \"number_of_reviews\",\n",
    "    \"reviews_per_month\"\n",
    "]\n",
    "\n",
    "# Availability-related features\n",
    "availability_related = [\n",
    "    \"availability_30\",\n",
    "    \"availability_60\",\n",
    "    \"availability_90\",\n",
    "    \"availability_365\"\n",
    "]\n",
    "\n",
    "# Reviews features\n",
    "number_of_reviews_related = [\n",
    "    \"number_of_reviews\",\n",
    "    \"number_of_reviews_ltm\",\n",
    "    \"number_of_reviews_l30d\"\n",
    "]\n",
    "\n",
    "# Room type features\n",
    "room_type_feature = [col for col in data_preprocessed.columns if 'room_type' in col]\n",
    "\n",
    "# Combining all the features for a comprehensive model\n",
    "all_features = (\n",
    "    basic_vars +\n",
    "    host_related +\n",
    "    time_related +\n",
    "    reviews +\n",
    "    availability_related +\n",
    "    number_of_reviews_related +\n",
    "    room_type_feature\n",
    ")\n",
    "\n",
    "# Confirm the total number of unique features for the updated comprehensive model\n",
    "len(set(all_features))\n"
   ]
  },
  {
   "cell_type": "code",
   "execution_count": 10,
   "id": "ef0b977f",
   "metadata": {},
   "outputs": [],
   "source": [
    "data_preprocessed.to_csv('data_preprocessed.csv', index=False)"
   ]
  },
  {
   "cell_type": "markdown",
   "id": "67fd6685",
   "metadata": {},
   "source": [
    "##### Split data to train and test"
   ]
  },
  {
   "cell_type": "code",
   "execution_count": 13,
   "id": "50ec4845",
   "metadata": {},
   "outputs": [
    {
     "data": {
      "text/plain": [
       "((11018, 28), (2755, 28), (11018,), (2755,))"
      ]
     },
     "execution_count": 13,
     "metadata": {},
     "output_type": "execute_result"
    }
   ],
   "source": [
    "# Split the data into training and test sets\n",
    "X = data_preprocessed[all_features] \n",
    "y = data_preprocessed['price']\n",
    "\n",
    "# Perform the split\n",
    "X_train, X_test, y_train, y_test = train_test_split(X, y, test_size=0.2, random_state=42)\n",
    "\n",
    "# Sizes of the training and test sets\n",
    "X_train.shape, X_test.shape, y_train.shape, y_test.shape"
   ]
  },
  {
   "cell_type": "markdown",
   "id": "3a62bea6",
   "metadata": {},
   "source": [
    "### OSL"
   ]
  },
  {
   "cell_type": "code",
   "execution_count": 49,
   "id": "e2cb1e3d",
   "metadata": {},
   "outputs": [],
   "source": [
    "# Function to train and evaluate a model\n",
    "def ols_train_and_evaluate(X_train, X_test, y_train, y_test, features):\n",
    "    # Create and train the model\n",
    "    model = LinearRegression()\n",
    "    model.fit(X_train[features], y_train)\n",
    "    \n",
    "    # Predictions\n",
    "    y_pred_train = model.predict(X_train[features])\n",
    "    y_pred_test = model.predict(X_test[features])\n",
    "    \n",
    "    # Evaluation\n",
    "    mse_train = round(mean_squared_error(y_train, y_pred_train), 3)\n",
    "    mse_test = round(mean_squared_error(y_test, y_pred_test),3)\n",
    "    rmse_train = round(sqrt(mse_train), 3)\n",
    "    rmse_test = round(sqrt(mse_test),3)\n",
    "    mae_train = round(mean_absolute_error(y_train, y_pred_train), 3)\n",
    "    mae_test = round(mean_absolute_error(y_test, y_pred_test), 3)\n",
    "    r2_train = round(r2_score(y_train, y_pred_train), 3)\n",
    "    r2_test = round(r2_score(y_test, y_pred_test), 3)\n",
    "    \n",
    "    return {\n",
    "        \"RMSE_Train\": rmse_train,\n",
    "        \"RMSE_Test\": rmse_test,\n",
    "        \"R2_Train\": r2_train,\n",
    "        \"R2_Test\": r2_test\n",
    "    }\n"
   ]
  },
  {
   "cell_type": "markdown",
   "id": "03233978",
   "metadata": {},
   "source": [
    "##### Model 1: `basic_vars` focuses on basic features to establish a baseline performance"
   ]
  },
  {
   "cell_type": "code",
   "execution_count": 50,
   "id": "b2c9adba",
   "metadata": {},
   "outputs": [
    {
     "data": {
      "text/plain": [
       "{'RMSE_Train': 372.874,\n",
       " 'RMSE_Test': 182.435,\n",
       " 'R2_Train': 0.081,\n",
       " 'R2_Test': 0.25}"
      ]
     },
     "execution_count": 50,
     "metadata": {},
     "output_type": "execute_result"
    }
   ],
   "source": [
    "# Model 1: Simple: \n",
    "model_1_features = basic_vars\n",
    "ols_1_results = ols_train_and_evaluate(X_train, X_test, y_train, y_test, model_1_features)\n",
    "\n",
    "ols_1_results"
   ]
  },
  {
   "cell_type": "markdown",
   "id": "59bc2d3d",
   "metadata": {},
   "source": [
    "##### Model 2: `basic_vars` +  `host_related` + `time_related`  introduces host and time-related variables to examine if host characteristics and tenure impact price predictions."
   ]
  },
  {
   "cell_type": "code",
   "execution_count": 51,
   "id": "113e828a",
   "metadata": {},
   "outputs": [
    {
     "data": {
      "text/plain": [
       "{'RMSE_Train': 371.824,\n",
       " 'RMSE_Test': 180.625,\n",
       " 'R2_Train': 0.086,\n",
       " 'R2_Test': 0.264}"
      ]
     },
     "execution_count": 51,
     "metadata": {},
     "output_type": "execute_result"
    }
   ],
   "source": [
    "# Model 2: Intermediate\n",
    "model_2_features = basic_vars + host_related + time_related\n",
    "ols_2_results = ols_train_and_evaluate(X_train, X_test, y_train, y_test, model_2_features)\n",
    "\n",
    "ols_2_results\n"
   ]
  },
  {
   "cell_type": "markdown",
   "id": "3cf35828",
   "metadata": {},
   "source": [
    "##### Model 3: `all_features`  leverages the full spectrum of available data to maximize predictive accuracy, testing the hypothesis that a more detailed feature set can provide better predictions."
   ]
  },
  {
   "cell_type": "code",
   "execution_count": 52,
   "id": "78b13226",
   "metadata": {},
   "outputs": [
    {
     "data": {
      "text/plain": [
       "{'RMSE_Train': 366.901,\n",
       " 'RMSE_Test': 171.448,\n",
       " 'R2_Train': 0.11,\n",
       " 'R2_Test': 0.337}"
      ]
     },
     "execution_count": 52,
     "metadata": {},
     "output_type": "execute_result"
    }
   ],
   "source": [
    "# Model 3: Complex\n",
    "model_3_features = all_features  \n",
    "ols_3_results = ols_train_and_evaluate(X_train, X_test, y_train, y_test, model_3_features)\n",
    "\n",
    "ols_3_results\n"
   ]
  },
  {
   "cell_type": "markdown",
   "id": "7d9d0ab3",
   "metadata": {},
   "source": [
    "- Model Selection Rationale: We chose models of increasing complexity to evaluate how adding more features affects model performance. Starting with basic property attributes, then incorporating host and time-related features, and finally using a comprehensive set of features including reviews and availability.\n",
    "\n",
    "- Complexity vs. Accuracy: While the most complex model (Model 3) achieved the best performance, the improvement in R^2 from Model 2 to Model 3 suggests diminishing returns from adding more features.\n"
   ]
  },
  {
   "cell_type": "markdown",
   "id": "dfdf05e4",
   "metadata": {},
   "source": [
    "- Improvement across models: There's a noticeable improvement in both RMSE and R² as we move from a simple model to a complex model. The complex model, which includes all specified features, yields the best performance in terms of both lower RMSE (indicating better accuracy) and higher R² (indicating a better fit of the model to the data).\n",
    "- Training vs. Testing performance: For all models, the RMSE is higher on the training set compared to the testing set. This is somewhat unusual, as we'd typically expect the model to perform better on the data it was trained on. However, this can sometimes occur due to the random split of data, the nature of the dataset, or when the model is very simple compared to the complexity of the task.\n",
    "- Room for improvement: Despite the improvements, the R² values suggest that there's still a significant portion of variance in the rental prices that the models are not capturing. This indicates potential room for further model refinement, feature engineering, or the exploration of more complex modeling approaches."
   ]
  },
  {
   "cell_type": "markdown",
   "id": "e282cae2",
   "metadata": {},
   "source": [
    "### Random Forest"
   ]
  },
  {
   "cell_type": "markdown",
   "id": "b0b89136",
   "metadata": {},
   "source": [
    "- Performance Improvement: Each successive model shows a reduction in RMSE, indicating a more accurate prediction as we move from simple to complex models. The Random Forest model significantly outperforms all linear regression models in terms of RMSE, indicating higher accuracy.\n",
    "\n",
    "- Overfitting Concern: Despite the Random Forest model's superior performance on the training set (R^2 = 0.83), the test set performance (R^2 = 0.39) suggests potential overfitting. **gây ra  học quá mức từ dữ liệu huấn luyện và do đó, kém khả năng tổng quát hóa tốt trên dữ liệu mới.**\n",
    "\n",
    "- Model Selection Rationale: The choice to progress from simple linear models to a complex Random Forest was driven by the desire to capture non-linear relationships and interactions between features that linear models may miss. The improvement in both RMSE and R^2 scores in the Random Forest model suggests that it is better suited for this dataset, thanks to its ability to handle feature interactions and heterogeneity in the data.\n",
    "\n",
    "- Khi so sánh với các mô hình hồi quy tuyến tính trước đó, Random Forest cải thiện đáng kể lỗi trung bình bình phương (MSE) và điểm R^2 trên tập huấn luyện, nhưng chỉ số R^2 trên tập kiểm tra cho thấy mô hình này không hoàn toàn vượt trội trong việc dự đoán giá trên dữ liệu chưa từng thấy."
   ]
  },
  {
   "cell_type": "code",
   "execution_count": 53,
   "id": "d704fb6d",
   "metadata": {},
   "outputs": [],
   "source": [
    "def rf_train_and_evaluate(X_train, X_test, y_train, y_test, n_estimators=100, random_state=42):\n",
    "    rf_model = RandomForestRegressor(n_estimators=n_estimators, random_state=random_state)\n",
    "    rf_model.fit(X_train, y_train)\n",
    "    y_pred_train = rf_model.predict(X_train)\n",
    "    y_pred_test = rf_model.predict(X_test)\n",
    "\n",
    "    # Calculate RMSE and R2 for the training set\n",
    "    rmse_train = round(np.sqrt(mean_squared_error(y_train, y_pred_train)),3)\n",
    "    r2_train = round(r2_score(y_train, y_pred_train),3)\n",
    "\n",
    "    # Calculate RMSE and R2 for the testing set\n",
    "    rmse_test = round(np.sqrt(mean_squared_error(y_test, y_pred_test)),3)\n",
    "    r2_test = round(r2_score(y_test, y_pred_test),3)\n",
    "\n",
    "    results = {\n",
    "        'RMSE_Train': rmse_train,\n",
    "        'RMSE_Test': rmse_test,\n",
    "        'R2_Train': r2_train,\n",
    "        'R2_Test': r2_test\n",
    "    }\n",
    "\n",
    "    return results\n"
   ]
  },
  {
   "cell_type": "code",
   "execution_count": 54,
   "id": "41d3261d",
   "metadata": {},
   "outputs": [
    {
     "data": {
      "text/plain": [
       "{'RMSE_Train': 161.256,\n",
       " 'RMSE_Test': 169.134,\n",
       " 'R2_Train': 0.828,\n",
       " 'R2_Test': 0.355}"
      ]
     },
     "execution_count": 54,
     "metadata": {},
     "output_type": "execute_result"
    }
   ],
   "source": [
    "# Run the Random Forest model\n",
    "rf_results = rf_train_and_evaluate(X_train, X_test, y_train, y_test)\n",
    "rf_results"
   ]
  },
  {
   "cell_type": "markdown",
   "id": "8f20f629",
   "metadata": {},
   "source": [
    "- General Performance: The Random Forest model demonstrated a good balance between training and testing performance, indicating a robust model with better generalization capabilities compared to the OLS model. Specifically, the Random Forest model achieved a lower RMSE and higher R² on the testing set, suggesting it was more accurate and explained more variance in the data.\n",
    "- Overfitting: While there is a noticeable difference between training and testing metrics (RMSE and R²), indicating some level of overfitting, the Random Forest model still managed to perform relatively well on unseen data. "
   ]
  },
  {
   "cell_type": "markdown",
   "id": "087a6e8c",
   "metadata": {},
   "source": [
    "### CART"
   ]
  },
  {
   "cell_type": "code",
   "execution_count": 55,
   "id": "1fc8e994",
   "metadata": {},
   "outputs": [
    {
     "data": {
      "text/plain": [
       "{'RMSE_Train': 2.293, 'RMSE_Test': 308.459, 'R2_Train': 1.0, 'R2_Test': -1.145}"
      ]
     },
     "execution_count": 55,
     "metadata": {},
     "output_type": "execute_result"
    }
   ],
   "source": [
    "# Initialize  and fit model\n",
    "cart_model = DecisionTreeRegressor(random_state=42)\n",
    "cart_model.fit(X_train, y_train)\n",
    "\n",
    "# Predictions on both the training and testing sets\n",
    "y_pred_train_cart = cart_model.predict(X_train)\n",
    "y_pred_test_cart = cart_model.predict(X_test)\n",
    "\n",
    "# Calculate RMSE and R2 for the training set\n",
    "rmse_train_cart = round(np.sqrt(mean_squared_error(y_train, y_pred_train_cart)),3)\n",
    "r2_train_cart = round(r2_score(y_train, y_pred_train_cart),3)\n",
    "\n",
    "# Calculate RMSE and R² for the testing set\n",
    "rmse_test_cart = round(np.sqrt(mean_squared_error(y_test, y_pred_test_cart)),3)\n",
    "r2_test_cart = round(r2_score(y_test, y_pred_test_cart),3)\n",
    "\n",
    "cart_results = {\n",
    "    \"RMSE_Train\": rmse_train_cart,\n",
    "    \"RMSE_Test\": rmse_test_cart,\n",
    "    \"R2_Train\": r2_train_cart,\n",
    "    \"R2_Test\": r2_test_cart\n",
    "}\n",
    "\n",
    "cart_results"
   ]
  },
  {
   "cell_type": "markdown",
   "id": "32321965",
   "metadata": {},
   "source": [
    "- Overfitting: The CART model demonstrates a significant overfitting issue, as indicated by nearly perfect performance on the training set (RMSE close to 0 and R² almost 1) but poor performance on the testing set. The RMSE is significantly higher on the test set, and the R² value is negative, indicating that the model performs worse than a simple horizontal line drawn at the mean of the target values.\n",
    "- Model Complexity: The decision tree has likely grown too complex, capturing noise and specific patterns in the training data that do not generalize well to unseen data. This is a common challenge with decision trees, where they can become highly tailored to the training data without proper constraints (like limiting the depth of the tree)."
   ]
  },
  {
   "cell_type": "markdown",
   "id": "7be3aa4c",
   "metadata": {},
   "source": [
    "## Gadient Boosting model"
   ]
  },
  {
   "cell_type": "code",
   "execution_count": 56,
   "id": "9bb3da8d",
   "metadata": {},
   "outputs": [
    {
     "data": {
      "text/plain": [
       "{'RMSE_Train': 311.753,\n",
       " 'RMSE_Test': 177.357,\n",
       " 'R2_Train': 0.358,\n",
       " 'R2_Test': 0.291}"
      ]
     },
     "execution_count": 56,
     "metadata": {},
     "output_type": "execute_result"
    }
   ],
   "source": [
    "# Initialize and fit model\n",
    "gb_model = GradientBoostingRegressor(n_estimators=100, random_state=42)\n",
    "gb_model.fit(X_train, y_train)\n",
    "\n",
    "# Predictions on both the training and testing sets\n",
    "y_pred_train_gb = gb_model.predict(X_train)\n",
    "y_pred_test_gb = gb_model.predict(X_test)\n",
    "\n",
    "# Calculate RMSE and R2 for the training set\n",
    "rmse_train_gb = round(np.sqrt(mean_squared_error(y_train, y_pred_train_gb)),3)\n",
    "r2_train_gb = round(r2_score(y_train, y_pred_train_gb), 3)\n",
    "\n",
    "# Calculate RMSE and R2 for the testing set\n",
    "rmse_test_gb = round(np.sqrt(mean_squared_error(y_test, y_pred_test_gb)), 3)\n",
    "r2_test_gb = round(r2_score(y_test, y_pred_test_gb), 3)\n",
    "\n",
    "gb_results = {\n",
    "    \"RMSE_Train\": rmse_train_gb,\n",
    "    \"RMSE_Test\": rmse_test_gb,\n",
    "    \"R2_Train\": r2_train_gb,\n",
    "    \"R2_Test\": r2_test_gb\n",
    "}\n",
    "\n",
    "gb_results"
   ]
  },
  {
   "cell_type": "markdown",
   "id": "4d3417b1",
   "metadata": {},
   "source": [
    "- Model Performance: The Gradient Boosting model shows a significant improvement in RMSE on the test set compared to the training set, indicating a better balance between bias and variance than the CART model we observed earlier.\n",
    "- Generalization Capability: The model's ability to maintain a relatively lower RMSE on the test set suggests it has a decent generalization capability, especially in comparison to the CART model which showed signs of overfitting.\n",
    "- R² Values: Although the R² values indicate that the model explains a moderate proportion of the variance in the target variable, there's room for improvement in how well the model fits the data."
   ]
  },
  {
   "cell_type": "markdown",
   "id": "1d2fcae1",
   "metadata": {},
   "source": [
    "## Findings and Discussions:"
   ]
  },
  {
   "cell_type": "code",
   "execution_count": 57,
   "id": "83d84848",
   "metadata": {},
   "outputs": [
    {
     "data": {
      "text/html": [
       "<div>\n",
       "<style scoped>\n",
       "    .dataframe tbody tr th:only-of-type {\n",
       "        vertical-align: middle;\n",
       "    }\n",
       "\n",
       "    .dataframe tbody tr th {\n",
       "        vertical-align: top;\n",
       "    }\n",
       "\n",
       "    .dataframe thead th {\n",
       "        text-align: right;\n",
       "    }\n",
       "</style>\n",
       "<table border=\"1\" class=\"dataframe\">\n",
       "  <thead>\n",
       "    <tr style=\"text-align: right;\">\n",
       "      <th></th>\n",
       "      <th>OLS Model 1</th>\n",
       "      <th>OLS Model 2</th>\n",
       "      <th>OLS Model 3</th>\n",
       "      <th>Random Forest</th>\n",
       "      <th>CART</th>\n",
       "      <th>Gadient Boosting</th>\n",
       "    </tr>\n",
       "  </thead>\n",
       "  <tbody>\n",
       "    <tr>\n",
       "      <th>RMSE_Train</th>\n",
       "      <td>372.874</td>\n",
       "      <td>371.824</td>\n",
       "      <td>366.901</td>\n",
       "      <td>161.256</td>\n",
       "      <td>2.293</td>\n",
       "      <td>311.753</td>\n",
       "    </tr>\n",
       "    <tr>\n",
       "      <th>RMSE_Test</th>\n",
       "      <td>182.435</td>\n",
       "      <td>180.625</td>\n",
       "      <td>171.448</td>\n",
       "      <td>169.134</td>\n",
       "      <td>308.459</td>\n",
       "      <td>177.357</td>\n",
       "    </tr>\n",
       "    <tr>\n",
       "      <th>R2_Train</th>\n",
       "      <td>0.081</td>\n",
       "      <td>0.086</td>\n",
       "      <td>0.110</td>\n",
       "      <td>0.828</td>\n",
       "      <td>1.000</td>\n",
       "      <td>0.358</td>\n",
       "    </tr>\n",
       "    <tr>\n",
       "      <th>R2_Test</th>\n",
       "      <td>0.250</td>\n",
       "      <td>0.264</td>\n",
       "      <td>0.337</td>\n",
       "      <td>0.355</td>\n",
       "      <td>-1.145</td>\n",
       "      <td>0.291</td>\n",
       "    </tr>\n",
       "  </tbody>\n",
       "</table>\n",
       "</div>"
      ],
      "text/plain": [
       "            OLS Model 1  OLS Model 2  OLS Model 3  Random Forest     CART  \\\n",
       "RMSE_Train      372.874      371.824      366.901        161.256    2.293   \n",
       "RMSE_Test       182.435      180.625      171.448        169.134  308.459   \n",
       "R2_Train          0.081        0.086        0.110          0.828    1.000   \n",
       "R2_Test           0.250        0.264        0.337          0.355   -1.145   \n",
       "\n",
       "            Gadient Boosting  \n",
       "RMSE_Train           311.753  \n",
       "RMSE_Test            177.357  \n",
       "R2_Train               0.358  \n",
       "R2_Test                0.291  "
      ]
     },
     "execution_count": 57,
     "metadata": {},
     "output_type": "execute_result"
    }
   ],
   "source": [
    "results_df = pd.DataFrame({\n",
    "    \"OLS Model 1\": ols_1_results,\n",
    "    \"OLS Model 2\": ols_2_results,\n",
    "    \"OLS Model 3\": ols_3_results,\n",
    "    \"Random Forest\": rf_results,\n",
    "    \"CART\": cart_results,\n",
    "    \"Gadient Boosting\": gb_results\n",
    "})\n",
    "\n",
    "results_df"
   ]
  },
  {
   "cell_type": "code",
   "execution_count": 71,
   "id": "0ff08e6d",
   "metadata": {},
   "outputs": [
    {
     "data": {
      "image/png": "[encoded data removed]",
      "text/plain": [
       "<Figure size 1400x800 with 2 Axes>"
      ]
     },
     "metadata": {},
     "output_type": "display_data"
    }
   ],
   "source": [
    "# Extracting RMSE and R2 values and set-up plot\n",
    "rmse_train = results_df.loc['RMSE_Train']\n",
    "r2_train = results_df.loc['R2_Train']\n",
    "rmse_test = results_df.loc['RMSE_Test']\n",
    "r2_test = results_df.loc['R2_Test']\n",
    "models = results_df.columns \n",
    "x_indexes = np.arange(len(models)) \n",
    "fig, ax1 = plt.subplots(figsize=(14, 8))\n",
    "\n",
    "# Bar plots for RMSE\n",
    "bar_width = 0.35\n",
    "ax1.bar(x_indexes - bar_width/2, rmse_train, width=bar_width, label='RMSE Train', color='tab:blue')\n",
    "ax1.bar(x_indexes + bar_width/2, rmse_test, width=bar_width, label='RMSE Test', color='tab:cyan')\n",
    "ax1.set_ylabel('RMSE', color='tab:blue')\n",
    "ax1.set_xticks(x_indexes)\n",
    "ax1.set_xticklabels(models, rotation=45, ha=\"right\")\n",
    "ax1.legend(loc='upper left')\n",
    "ax1.tick_params(axis='y', labelcolor='tab:blue')\n",
    "\n",
    "# Line plots for R2\n",
    "ax2 = ax1.twinx()\n",
    "ax2.set_ylabel('R²', color='tab:red')\n",
    "ax2.plot(models, r2_train, label='R² Train', color='tab:red', marker='o')\n",
    "ax2.plot(models, r2_test, label='R² Test', color='tab:orange', marker='o')\n",
    "ax2.tick_params(axis='y', labelcolor='tab:red')\n",
    "ax2.legend(loc='upper right')\n",
    "\n",
    "fig.tight_layout()\n",
    "plt.title('Model Comparison: RMSE and R²')\n",
    "plt.show()"
   ]
  },
  {
   "cell_type": "code",
   "execution_count": 64,
   "id": "81c927c1",
   "metadata": {},
   "outputs": [
    {
     "data": {
      "text/plain": [
       "array([372.874, 371.824, 366.901, 161.256,   2.293, 311.753])"
      ]
     },
     "execution_count": 64,
     "metadata": {},
     "output_type": "execute_result"
    }
   ],
   "source": [
    "results_df.loc['RMSE_Train'].values"
   ]
  },
  {
   "cell_type": "code",
   "execution_count": null,
   "id": "6eaf5133",
   "metadata": {},
   "outputs": [],
   "source": []
  }
 ],
 "metadata": {
  "kernelspec": {
   "display_name": "Python 3 (ipykernel)",
   "language": "python",
   "name": "python3"
  },
  "language_info": {
   "codemirror_mode": {
    "name": "ipython",
    "version": 3
   },
   "file_extension": ".py",
   "mimetype": "text/x-python",
   "name": "python",
   "nbconvert_exporter": "python",
   "pygments_lexer": "ipython3",
   "version": "3.11.4"
  }
 },
 "nbformat": 4,
 "nbformat_minor": 5
}
